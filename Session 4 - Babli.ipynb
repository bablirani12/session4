{
 "cells": [
  {
   "cell_type": "markdown",
   "id": "2825dcc5",
   "metadata": {},
   "source": [
    "Dictionary"
   ]
  },
  {
   "cell_type": "code",
   "execution_count": 1,
   "id": "4057bdc7",
   "metadata": {},
   "outputs": [],
   "source": [
    "empdict={'empid':201, 'empname': 'John', 'Position':'Manager'}"
   ]
  },
  {
   "cell_type": "code",
   "execution_count": 2,
   "id": "59170dd2",
   "metadata": {},
   "outputs": [
    {
     "data": {
      "text/plain": [
       "{'empid': 201, 'empname': 'John', 'Position': 'Manager'}"
      ]
     },
     "execution_count": 2,
     "metadata": {},
     "output_type": "execute_result"
    }
   ],
   "source": [
    "empdict"
   ]
  },
  {
   "cell_type": "code",
   "execution_count": 4,
   "id": "7a942a7a",
   "metadata": {},
   "outputs": [
    {
     "data": {
      "text/plain": [
       "201"
      ]
     },
     "execution_count": 4,
     "metadata": {},
     "output_type": "execute_result"
    }
   ],
   "source": [
    "empdict['empid']"
   ]
  },
  {
   "cell_type": "code",
   "execution_count": 5,
   "id": "e37bd645",
   "metadata": {},
   "outputs": [
    {
     "data": {
      "text/plain": [
       "'John'"
      ]
     },
     "execution_count": 5,
     "metadata": {},
     "output_type": "execute_result"
    }
   ],
   "source": [
    "empdict['empname']"
   ]
  },
  {
   "cell_type": "code",
   "execution_count": 8,
   "id": "656e9f94",
   "metadata": {},
   "outputs": [
    {
     "data": {
      "text/plain": [
       "'Manager'"
      ]
     },
     "execution_count": 8,
     "metadata": {},
     "output_type": "execute_result"
    }
   ],
   "source": [
    "empdict['Position']"
   ]
  },
  {
   "cell_type": "code",
   "execution_count": null,
   "id": "420ba44d",
   "metadata": {},
   "outputs": [],
   "source": [
    "empdict.update"
   ]
  },
  {
   "cell_type": "code",
   "execution_count": 9,
   "id": "feddd9ed",
   "metadata": {},
   "outputs": [],
   "source": [
    "empdict.update({'Salary': 900000})"
   ]
  },
  {
   "cell_type": "code",
   "execution_count": 10,
   "id": "34ece348",
   "metadata": {},
   "outputs": [
    {
     "data": {
      "text/plain": [
       "{'empid': 201, 'empname': 'John', 'Position': 'Manager', 'Salary': 900000}"
      ]
     },
     "execution_count": 10,
     "metadata": {},
     "output_type": "execute_result"
    }
   ],
   "source": [
    "empdict"
   ]
  },
  {
   "cell_type": "code",
   "execution_count": 11,
   "id": "45820d95",
   "metadata": {},
   "outputs": [
    {
     "data": {
      "text/plain": [
       "900000"
      ]
     },
     "execution_count": 11,
     "metadata": {},
     "output_type": "execute_result"
    }
   ],
   "source": [
    "empdict['Salary']"
   ]
  },
  {
   "cell_type": "code",
   "execution_count": 12,
   "id": "80d97c45",
   "metadata": {},
   "outputs": [
    {
     "data": {
      "text/plain": [
       "{'empid': 201, 'empname': 'John', 'Position': 'Manager', 'Salary': 900000}"
      ]
     },
     "execution_count": 12,
     "metadata": {},
     "output_type": "execute_result"
    }
   ],
   "source": [
    "empdict"
   ]
  },
  {
   "cell_type": "code",
   "execution_count": 13,
   "id": "37d79105",
   "metadata": {},
   "outputs": [
    {
     "data": {
      "text/plain": [
       "dict_keys(['empid', 'empname', 'Position', 'Salary'])"
      ]
     },
     "execution_count": 13,
     "metadata": {},
     "output_type": "execute_result"
    }
   ],
   "source": [
    "empdict.keys()"
   ]
  },
  {
   "cell_type": "code",
   "execution_count": 14,
   "id": "871755d9",
   "metadata": {},
   "outputs": [
    {
     "data": {
      "text/plain": [
       "dict_values([201, 'John', 'Manager', 900000])"
      ]
     },
     "execution_count": 14,
     "metadata": {},
     "output_type": "execute_result"
    }
   ],
   "source": [
    "empdict.values()"
   ]
  },
  {
   "cell_type": "code",
   "execution_count": 15,
   "id": "9f3b0ca0",
   "metadata": {},
   "outputs": [
    {
     "data": {
      "text/plain": [
       "dict_items([('empid', 201), ('empname', 'John'), ('Position', 'Manager'), ('Salary', 900000)])"
      ]
     },
     "execution_count": 15,
     "metadata": {},
     "output_type": "execute_result"
    }
   ],
   "source": [
    "empdict.items()"
   ]
  },
  {
   "cell_type": "code",
   "execution_count": 17,
   "id": "6d60e318",
   "metadata": {},
   "outputs": [],
   "source": [
    "empdict['Salary']=9500000"
   ]
  },
  {
   "cell_type": "code",
   "execution_count": 18,
   "id": "8c1ba3a3",
   "metadata": {},
   "outputs": [
    {
     "data": {
      "text/plain": [
       "{'empid': 201, 'empname': 'John', 'Position': 'Manager', 'Salary': 9500000}"
      ]
     },
     "execution_count": 18,
     "metadata": {},
     "output_type": "execute_result"
    }
   ],
   "source": [
    "empdict"
   ]
  },
  {
   "cell_type": "code",
   "execution_count": 19,
   "id": "7b6c9823",
   "metadata": {},
   "outputs": [],
   "source": [
    "empdict['Position']='Director'"
   ]
  },
  {
   "cell_type": "code",
   "execution_count": 20,
   "id": "883d0ffe",
   "metadata": {},
   "outputs": [
    {
     "data": {
      "text/plain": [
       "{'empid': 201, 'empname': 'John', 'Position': 'Director', 'Salary': 9500000}"
      ]
     },
     "execution_count": 20,
     "metadata": {},
     "output_type": "execute_result"
    }
   ],
   "source": [
    "empdict"
   ]
  },
  {
   "cell_type": "code",
   "execution_count": 21,
   "id": "891fa2ea",
   "metadata": {},
   "outputs": [
    {
     "data": {
      "text/plain": [
       "4"
      ]
     },
     "execution_count": 21,
     "metadata": {},
     "output_type": "execute_result"
    }
   ],
   "source": [
    "len(empdict)"
   ]
  },
  {
   "cell_type": "code",
   "execution_count": 22,
   "id": "e21f7893",
   "metadata": {},
   "outputs": [],
   "source": [
    "del empdict['empid']"
   ]
  },
  {
   "cell_type": "code",
   "execution_count": 23,
   "id": "a92d4144",
   "metadata": {},
   "outputs": [
    {
     "data": {
      "text/plain": [
       "{'empname': 'John', 'Position': 'Director', 'Salary': 9500000}"
      ]
     },
     "execution_count": 23,
     "metadata": {},
     "output_type": "execute_result"
    }
   ],
   "source": [
    "empdict"
   ]
  },
  {
   "cell_type": "code",
   "execution_count": 24,
   "id": "6bdfbb5d",
   "metadata": {},
   "outputs": [
    {
     "data": {
      "text/plain": [
       "'John'"
      ]
     },
     "execution_count": 24,
     "metadata": {},
     "output_type": "execute_result"
    }
   ],
   "source": [
    "empdict.pop('empname')"
   ]
  },
  {
   "cell_type": "code",
   "execution_count": 25,
   "id": "6ccc648b",
   "metadata": {},
   "outputs": [
    {
     "data": {
      "text/plain": [
       "{'Position': 'Director', 'Salary': 9500000}"
      ]
     },
     "execution_count": 25,
     "metadata": {},
     "output_type": "execute_result"
    }
   ],
   "source": [
    "empdict"
   ]
  },
  {
   "cell_type": "code",
   "execution_count": 30,
   "id": "92fb141a",
   "metadata": {},
   "outputs": [],
   "source": [
    "#Dictionary with Integar keys\n",
    "\n",
    "indict = {10:\"C++\", 20:\"Java\", 30:\"Python\", 40:\"Ruby\"}"
   ]
  },
  {
   "cell_type": "code",
   "execution_count": 31,
   "id": "278b3afe",
   "metadata": {},
   "outputs": [
    {
     "data": {
      "text/plain": [
       "{10: 'C++', 20: 'Java', 30: 'Python', 40: 'Ruby'}"
      ]
     },
     "execution_count": 31,
     "metadata": {},
     "output_type": "execute_result"
    }
   ],
   "source": [
    "indict"
   ]
  },
  {
   "cell_type": "code",
   "execution_count": 32,
   "id": "04dd1fa4",
   "metadata": {},
   "outputs": [
    {
     "data": {
      "text/plain": [
       "dict_keys([10, 20, 30, 40])"
      ]
     },
     "execution_count": 32,
     "metadata": {},
     "output_type": "execute_result"
    }
   ],
   "source": [
    "indict.keys()"
   ]
  },
  {
   "cell_type": "code",
   "execution_count": 33,
   "id": "18090011",
   "metadata": {},
   "outputs": [
    {
     "data": {
      "text/plain": [
       "dict_values(['C++', 'Java', 'Python', 'Ruby'])"
      ]
     },
     "execution_count": 33,
     "metadata": {},
     "output_type": "execute_result"
    }
   ],
   "source": [
    "indict.values()"
   ]
  },
  {
   "cell_type": "code",
   "execution_count": 34,
   "id": "b6236e89",
   "metadata": {},
   "outputs": [
    {
     "data": {
      "text/plain": [
       "dict_items([(10, 'C++'), (20, 'Java'), (30, 'Python'), (40, 'Ruby')])"
      ]
     },
     "execution_count": 34,
     "metadata": {},
     "output_type": "execute_result"
    }
   ],
   "source": [
    "indict.items()"
   ]
  },
  {
   "cell_type": "code",
   "execution_count": 35,
   "id": "3dbbb471",
   "metadata": {},
   "outputs": [],
   "source": [
    "indict.update({50: 'Rails'})"
   ]
  },
  {
   "cell_type": "code",
   "execution_count": 36,
   "id": "604664c5",
   "metadata": {},
   "outputs": [
    {
     "data": {
      "text/plain": [
       "{10: 'C++', 20: 'Java', 30: 'Python', 40: 'Ruby', 50: 'Rails'}"
      ]
     },
     "execution_count": 36,
     "metadata": {},
     "output_type": "execute_result"
    }
   ],
   "source": [
    "indict"
   ]
  },
  {
   "cell_type": "code",
   "execution_count": 37,
   "id": "a3effa03",
   "metadata": {},
   "outputs": [],
   "source": [
    "indict[40]=\"Csharp\""
   ]
  },
  {
   "cell_type": "code",
   "execution_count": 38,
   "id": "ac09c7a4",
   "metadata": {},
   "outputs": [
    {
     "data": {
      "text/plain": [
       "{10: 'C++', 20: 'Java', 30: 'Python', 40: 'Csharp', 50: 'Rails'}"
      ]
     },
     "execution_count": 38,
     "metadata": {},
     "output_type": "execute_result"
    }
   ],
   "source": [
    "indict"
   ]
  },
  {
   "cell_type": "code",
   "execution_count": 40,
   "id": "e9f2e760",
   "metadata": {},
   "outputs": [],
   "source": [
    "studdict={'id':[1,2,3], 'Name':['John', 'Jack', 'Andrew'], 'Grade':[20,30,20]}"
   ]
  },
  {
   "cell_type": "code",
   "execution_count": 41,
   "id": "51c80a35",
   "metadata": {},
   "outputs": [
    {
     "data": {
      "text/plain": [
       "{'id': [1, 2, 3], 'Name': ['John', 'Jack', 'Andrew'], 'Grade': [20, 30, 20]}"
      ]
     },
     "execution_count": 41,
     "metadata": {},
     "output_type": "execute_result"
    }
   ],
   "source": [
    "studdict"
   ]
  },
  {
   "cell_type": "code",
   "execution_count": 43,
   "id": "4ca20918",
   "metadata": {},
   "outputs": [
    {
     "data": {
      "text/plain": [
       "[1, 2, 3]"
      ]
     },
     "execution_count": 43,
     "metadata": {},
     "output_type": "execute_result"
    }
   ],
   "source": [
    "studdict['id']"
   ]
  },
  {
   "cell_type": "code",
   "execution_count": 44,
   "id": "2d903121",
   "metadata": {},
   "outputs": [
    {
     "data": {
      "text/plain": [
       "['John', 'Jack', 'Andrew']"
      ]
     },
     "execution_count": 44,
     "metadata": {},
     "output_type": "execute_result"
    }
   ],
   "source": [
    "studdict['Name']"
   ]
  },
  {
   "cell_type": "code",
   "execution_count": 45,
   "id": "a2fa483b",
   "metadata": {},
   "outputs": [
    {
     "data": {
      "text/plain": [
       "[20, 30, 20]"
      ]
     },
     "execution_count": 45,
     "metadata": {},
     "output_type": "execute_result"
    }
   ],
   "source": [
    "studdict['Grade']"
   ]
  },
  {
   "cell_type": "code",
   "execution_count": 46,
   "id": "ef5f8f7b",
   "metadata": {},
   "outputs": [
    {
     "data": {
      "text/plain": [
       "dict_keys(['id', 'Name', 'Grade'])"
      ]
     },
     "execution_count": 46,
     "metadata": {},
     "output_type": "execute_result"
    }
   ],
   "source": [
    "studdict.keys()"
   ]
  },
  {
   "cell_type": "code",
   "execution_count": 47,
   "id": "6dcece1d",
   "metadata": {},
   "outputs": [
    {
     "data": {
      "text/plain": [
       "dict_values([[1, 2, 3], ['John', 'Jack', 'Andrew'], [20, 30, 20]])"
      ]
     },
     "execution_count": 47,
     "metadata": {},
     "output_type": "execute_result"
    }
   ],
   "source": [
    "studdict.values()"
   ]
  },
  {
   "cell_type": "code",
   "execution_count": 55,
   "id": "64af99f3",
   "metadata": {},
   "outputs": [
    {
     "data": {
      "text/plain": [
       "dict_items([('id', [1, 2, 3]), ('Name', ['John', 'Jack', 'Andrew']), ('Grade', [20, 30, 20])])"
      ]
     },
     "execution_count": 55,
     "metadata": {},
     "output_type": "execute_result"
    }
   ],
   "source": [
    "studdict.items()"
   ]
  },
  {
   "cell_type": "code",
   "execution_count": 60,
   "id": "ffc5c9c5",
   "metadata": {},
   "outputs": [],
   "source": [
    "studdict.update({\"Rollno\": [1, 2, 3]})"
   ]
  },
  {
   "cell_type": "code",
   "execution_count": 61,
   "id": "d051b798",
   "metadata": {},
   "outputs": [
    {
     "data": {
      "text/plain": [
       "{'id': [1, 2, 3],\n",
       " 'Name': ['John', 'Jack', 'Andrew'],\n",
       " 'Grade': [20, 30, 20],\n",
       " 'Rollno': [1, 2, 3]}"
      ]
     },
     "execution_count": 61,
     "metadata": {},
     "output_type": "execute_result"
    }
   ],
   "source": [
    "studdict"
   ]
  },
  {
   "cell_type": "markdown",
   "id": "390b8678",
   "metadata": {},
   "source": [
    "# Sets"
   ]
  },
  {
   "cell_type": "code",
   "execution_count": 62,
   "id": "5284bf86",
   "metadata": {},
   "outputs": [],
   "source": [
    "x={22,33,56,78,90}"
   ]
  },
  {
   "cell_type": "code",
   "execution_count": 63,
   "id": "7c07f687",
   "metadata": {},
   "outputs": [
    {
     "data": {
      "text/plain": [
       "{22, 33, 56, 78, 90}"
      ]
     },
     "execution_count": 63,
     "metadata": {},
     "output_type": "execute_result"
    }
   ],
   "source": [
    "x"
   ]
  },
  {
   "cell_type": "code",
   "execution_count": 64,
   "id": "b40cc796",
   "metadata": {},
   "outputs": [],
   "source": [
    "y=([33,44,55,66,77])"
   ]
  },
  {
   "cell_type": "code",
   "execution_count": 65,
   "id": "bd4a7812",
   "metadata": {},
   "outputs": [
    {
     "data": {
      "text/plain": [
       "[33, 44, 55, 66, 77]"
      ]
     },
     "execution_count": 65,
     "metadata": {},
     "output_type": "execute_result"
    }
   ],
   "source": [
    "y"
   ]
  },
  {
   "cell_type": "code",
   "execution_count": 66,
   "id": "8452dfd6",
   "metadata": {},
   "outputs": [],
   "source": [
    "x={22,33,56,78,90,22}"
   ]
  },
  {
   "cell_type": "code",
   "execution_count": 67,
   "id": "1bfaf34c",
   "metadata": {},
   "outputs": [
    {
     "data": {
      "text/plain": [
       "{22, 33, 56, 78, 90}"
      ]
     },
     "execution_count": 67,
     "metadata": {},
     "output_type": "execute_result"
    }
   ],
   "source": [
    "x"
   ]
  },
  {
   "cell_type": "code",
   "execution_count": 68,
   "id": "29428847",
   "metadata": {},
   "outputs": [],
   "source": [
    "days={'monday', 'tuesday', 'wednesday', 'thursday'}"
   ]
  },
  {
   "cell_type": "code",
   "execution_count": 70,
   "id": "53f8654b",
   "metadata": {},
   "outputs": [
    {
     "data": {
      "text/plain": [
       "set"
      ]
     },
     "execution_count": 70,
     "metadata": {},
     "output_type": "execute_result"
    }
   ],
   "source": [
    "type(days)"
   ]
  },
  {
   "cell_type": "code",
   "execution_count": 71,
   "id": "c2eb2271",
   "metadata": {},
   "outputs": [
    {
     "data": {
      "text/plain": [
       "{'monday', 'thursday', 'tuesday', 'wednesday'}"
      ]
     },
     "execution_count": 71,
     "metadata": {},
     "output_type": "execute_result"
    }
   ],
   "source": [
    "days"
   ]
  },
  {
   "cell_type": "code",
   "execution_count": 72,
   "id": "49902e91",
   "metadata": {},
   "outputs": [],
   "source": [
    "days.clear()"
   ]
  },
  {
   "cell_type": "code",
   "execution_count": 73,
   "id": "53bccf0e",
   "metadata": {},
   "outputs": [
    {
     "data": {
      "text/plain": [
       "set()"
      ]
     },
     "execution_count": 73,
     "metadata": {},
     "output_type": "execute_result"
    }
   ],
   "source": [
    "days"
   ]
  },
  {
   "cell_type": "code",
   "execution_count": 75,
   "id": "69c2f92b",
   "metadata": {},
   "outputs": [],
   "source": [
    "days={'monday', 'tuesday', 'wednesday', 'thursday'}"
   ]
  },
  {
   "cell_type": "code",
   "execution_count": 76,
   "id": "57cef374",
   "metadata": {},
   "outputs": [
    {
     "data": {
      "text/plain": [
       "{'monday', 'thursday', 'tuesday', 'wednesday'}"
      ]
     },
     "execution_count": 76,
     "metadata": {},
     "output_type": "execute_result"
    }
   ],
   "source": [
    "days"
   ]
  },
  {
   "cell_type": "code",
   "execution_count": 81,
   "id": "46314bad",
   "metadata": {},
   "outputs": [
    {
     "ename": "KeyError",
     "evalue": "'tuesday'",
     "output_type": "error",
     "traceback": [
      "\u001b[1;31m---------------------------------------------------------------------------\u001b[0m",
      "\u001b[1;31mKeyError\u001b[0m                                  Traceback (most recent call last)",
      "\u001b[1;32mC:\\Users\\BABLIM~1\\AppData\\Local\\Temp/ipykernel_4188/3456287145.py\u001b[0m in \u001b[0;36m<module>\u001b[1;34m\u001b[0m\n\u001b[1;32m----> 1\u001b[1;33m \u001b[0mdays\u001b[0m\u001b[1;33m.\u001b[0m\u001b[0mremove\u001b[0m\u001b[1;33m(\u001b[0m\u001b[1;34m'tuesday'\u001b[0m\u001b[1;33m)\u001b[0m\u001b[1;33m\u001b[0m\u001b[1;33m\u001b[0m\u001b[0m\n\u001b[0m",
      "\u001b[1;31mKeyError\u001b[0m: 'tuesday'"
     ]
    }
   ],
   "source": [
    "days.remove('tuesday')"
   ]
  },
  {
   "cell_type": "code",
   "execution_count": 80,
   "id": "69fb7a48",
   "metadata": {},
   "outputs": [
    {
     "data": {
      "text/plain": [
       "'tuesday'"
      ]
     },
     "execution_count": 80,
     "metadata": {},
     "output_type": "execute_result"
    }
   ],
   "source": [
    "days.pop()"
   ]
  },
  {
   "cell_type": "markdown",
   "id": "054f97f6",
   "metadata": {},
   "source": [
    "# Loops in Python"
   ]
  },
  {
   "cell_type": "markdown",
   "id": "34e38033",
   "metadata": {},
   "source": [
    "While loop"
   ]
  },
  {
   "cell_type": "code",
   "execution_count": 82,
   "id": "ab442722",
   "metadata": {},
   "outputs": [
    {
     "name": "stdout",
     "output_type": "stream",
     "text": [
      "0\n",
      "1\n",
      "2\n"
     ]
    }
   ],
   "source": [
    "#initialization\n",
    "i=0\n",
    "\n",
    "#condition\n",
    "while(i<3):\n",
    "    print(i)\n",
    "    i=i+1 #increment                                   "
   ]
  },
  {
   "cell_type": "code",
   "execution_count": 91,
   "id": "13f512cf",
   "metadata": {},
   "outputs": [
    {
     "name": "stdout",
     "output_type": "stream",
     "text": [
      "5 6 7 8 9 10 11 12 13 14 15 16 17 18 19 20 21 22 23 24 "
     ]
    }
   ],
   "source": [
    "i=5\n",
    "while(i<25):\n",
    "    print(i, end=\" \")\n",
    "    i=i+1"
   ]
  },
  {
   "cell_type": "code",
   "execution_count": 84,
   "id": "4e7f404f",
   "metadata": {},
   "outputs": [
    {
     "name": "stdout",
     "output_type": "stream",
     "text": [
      "0\n",
      "1\n",
      "2\n",
      "3\n",
      "4\n"
     ]
    }
   ],
   "source": [
    "i=0\n",
    "while(i<5):\n",
    "    print(i)\n",
    "    i=i+1"
   ]
  },
  {
   "cell_type": "code",
   "execution_count": 85,
   "id": "be18dcb2",
   "metadata": {},
   "outputs": [
    {
     "name": "stdout",
     "output_type": "stream",
     "text": [
      "0\n",
      "1\n",
      "2\n",
      "3\n",
      "4\n",
      "5\n"
     ]
    }
   ],
   "source": [
    "j=0\n",
    "while(j<6):\n",
    "    print(j)\n",
    "    j=j+1"
   ]
  },
  {
   "cell_type": "code",
   "execution_count": 86,
   "id": "7fa1f197",
   "metadata": {},
   "outputs": [
    {
     "name": "stdout",
     "output_type": "stream",
     "text": [
      "p= 0\n",
      "p= 1\n",
      "p= 2\n",
      "p= 3\n",
      "p= 4\n",
      "p= 5\n"
     ]
    }
   ],
   "source": [
    "p=0\n",
    "while(p<6):\n",
    "    print(\"p=\",p)\n",
    "    p=p+1"
   ]
  },
  {
   "cell_type": "code",
   "execution_count": 90,
   "id": "ab678bcc",
   "metadata": {},
   "outputs": [
    {
     "name": "stdout",
     "output_type": "stream",
     "text": [
      "x= 1 x= 2 x= 3 x= 4 x= 5 x= 6 x= 7 "
     ]
    }
   ],
   "source": [
    "x=1\n",
    "while(x<8):\n",
    "    print(\"x=\",x,end=\" \")\n",
    "    x=x+1"
   ]
  },
  {
   "cell_type": "code",
   "execution_count": 88,
   "id": "a8d199b3",
   "metadata": {},
   "outputs": [
    {
     "name": "stdout",
     "output_type": "stream",
     "text": [
      "the value of j= 0\n",
      "the value of j= 1\n",
      "the value of j= 2\n",
      "the value of j= 3\n",
      "the value of j= 4\n"
     ]
    }
   ],
   "source": [
    "j=0\n",
    "while(j<5):\n",
    "    print('the value of j=', j)\n",
    "    j=j+1"
   ]
  },
  {
   "cell_type": "code",
   "execution_count": 89,
   "id": "fe1d3d22",
   "metadata": {},
   "outputs": [
    {
     "name": "stdout",
     "output_type": "stream",
     "text": [
      "0 1 2 3 4 5 6 7 8 9 10 11 12 13 14 15 16 17 18 19 "
     ]
    }
   ],
   "source": [
    "m=0\n",
    "while(m<20):\n",
    "    print(m,end=\" \")\n",
    "    m=m+1"
   ]
  },
  {
   "cell_type": "markdown",
   "id": "ac673840",
   "metadata": {},
   "source": [
    "For loop"
   ]
  },
  {
   "cell_type": "code",
   "execution_count": 95,
   "id": "029ee0fe",
   "metadata": {},
   "outputs": [
    {
     "name": "stdout",
     "output_type": "stream",
     "text": [
      "1\n",
      "2\n",
      "3\n",
      "4\n"
     ]
    }
   ],
   "source": [
    "for index in[1,2,3,4]:\n",
    "    print(index)"
   ]
  },
  {
   "cell_type": "code",
   "execution_count": 96,
   "id": "a34b3f5a",
   "metadata": {},
   "outputs": [
    {
     "name": "stdout",
     "output_type": "stream",
     "text": [
      "10\n",
      "20\n",
      "30\n",
      "40\n",
      "50\n"
     ]
    }
   ],
   "source": [
    "for i in [10,20,30,40,50]:\n",
    "    print(i)"
   ]
  },
  {
   "cell_type": "code",
   "execution_count": 97,
   "id": "8f140a9d",
   "metadata": {},
   "outputs": [
    {
     "name": "stdout",
     "output_type": "stream",
     "text": [
      "100\n",
      "200\n",
      "300\n",
      "400\n"
     ]
    }
   ],
   "source": [
    "for j in[100,200,300,400]:\n",
    "    print(j)"
   ]
  },
  {
   "cell_type": "code",
   "execution_count": 98,
   "id": "79747a56",
   "metadata": {},
   "outputs": [
    {
     "name": "stdout",
     "output_type": "stream",
     "text": [
      "j= 20.9\n",
      "j= 66.9\n",
      "j= 45.23\n",
      "j= 88.9\n"
     ]
    }
   ],
   "source": [
    "for j in [20.9,66.9,45.23,88.90]:\n",
    "    print(\"j=\", j)"
   ]
  },
  {
   "cell_type": "code",
   "execution_count": 99,
   "id": "8e028db4",
   "metadata": {},
   "outputs": [
    {
     "name": "stdout",
     "output_type": "stream",
     "text": [
      "a\n",
      "b\n",
      "c\n",
      "d\n"
     ]
    }
   ],
   "source": [
    "for p in ['a', 'b', 'c', 'd']:\n",
    "    print(p)"
   ]
  },
  {
   "cell_type": "code",
   "execution_count": 101,
   "id": "1f3af0fe",
   "metadata": {},
   "outputs": [
    {
     "name": "stdout",
     "output_type": "stream",
     "text": [
      "the fruits are= apple\n",
      "the fruits are= banana\n",
      "the fruits are= mango\n"
     ]
    }
   ],
   "source": [
    "for r in ['apple', 'banana', 'mango']:\n",
    "    print('the fruits are=', r)"
   ]
  },
  {
   "cell_type": "code",
   "execution_count": 102,
   "id": "74550794",
   "metadata": {},
   "outputs": [
    {
     "name": "stdout",
     "output_type": "stream",
     "text": [
      "a\n",
      "56\n",
      "80\n",
      "toys\n",
      "True\n",
      "90.6\n",
      "b\n"
     ]
    }
   ],
   "source": [
    "for i in ['a', 56, 80, 'toys', True, 90.6, 'b']:\n",
    "    print(i)"
   ]
  },
  {
   "cell_type": "code",
   "execution_count": null,
   "id": "7d6536ef",
   "metadata": {},
   "outputs": [],
   "source": []
  },
  {
   "cell_type": "code",
   "execution_count": null,
   "id": "c5e1b21a",
   "metadata": {},
   "outputs": [],
   "source": []
  }
 ],
 "metadata": {
  "kernelspec": {
   "display_name": "Python 3 (ipykernel)",
   "language": "python",
   "name": "python3"
  },
  "language_info": {
   "codemirror_mode": {
    "name": "ipython",
    "version": 3
   },
   "file_extension": ".py",
   "mimetype": "text/x-python",
   "name": "python",
   "nbconvert_exporter": "python",
   "pygments_lexer": "ipython3",
   "version": "3.9.7"
  }
 },
 "nbformat": 4,
 "nbformat_minor": 5
}
